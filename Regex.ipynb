{
 "cells": [
  {
   "cell_type": "code",
   "execution_count": 1,
   "metadata": {},
   "outputs": [],
   "source": [
    "import re"
   ]
  },
  {
   "cell_type": "code",
   "execution_count": 9,
   "metadata": {},
   "outputs": [
    {
     "name": "stdout",
     "output_type": "stream",
     "text": [
      "<re.Match object; span=(1, 13), match='1221.34.3442'>\n",
      "<re.Match object; span=(15, 27), match='6444-45-6563'>\n",
      "1221.34.3442\n"
     ]
    }
   ],
   "source": [
    "text=' 1221.34.3442  6444-45-6563'\n",
    "pattern=re.compile(r\"\\d\\d\\d\\d.\\d\\d.\\d\\d\\d\\d\")\n",
    "matches=pattern.finditer(text)\n",
    "for match in matches:\n",
    "    print(match)\n",
    "print(text[1:13])"
   ]
  },
  {
   "cell_type": "code",
   "execution_count": 11,
   "metadata": {},
   "outputs": [
    {
     "name": "stdout",
     "output_type": "stream",
     "text": [
      "<re.Match object; span=(7, 19), match='5050-66-6060'>\n",
      "<re.Match object; span=(21, 33), match='6767-86-2345'>\n",
      "ello 95050-6\n"
     ]
    }
   ],
   "source": [
    "pattern=re.compile(r\"\\d\\d\\d\\d.\\d\\d.\\d\\d\\d\\d\")\n",
    "#pattern=re.compile(r\"\\d\\d\\d\\d[-.]\\d\\d[-.]\\d\\d\\d\\d\") # [-.] used to read only pattern contains - and . in that pattern\n",
    "\n",
    "with open('data.txt','r') as f:\n",
    "    contents=f.read()\n",
    "    \n",
    "\n",
    "matches=pattern.finditer(contents)\n",
    "for match in matches:\n",
    "    print(match)\n",
    "print(contents[1:13])"
   ]
  },
  {
   "cell_type": "code",
   "execution_count": 13,
   "metadata": {},
   "outputs": [
    {
     "name": "stdout",
     "output_type": "stream",
     "text": [
      "<re.Match object; span=(21, 33), match='5767-86-2345'>\n",
      "<re.Match object; span=(34, 46), match='6767-86-2345'>\n",
      "<re.Match object; span=(47, 59), match='7767-86-2345'>\n",
      "ello 95050-6\n"
     ]
    }
   ],
   "source": [
    "pattern=re.compile(r\"[567][7]\\d\\d.\\d\\d.\\d\\d\\d\\d\") #first didgit wchich starts with 5 or 6 or 7 and second digit 7 only\n",
    "#pattern=re.compile(r\"\\d\\d\\d\\d[-.]\\d\\d[-.]\\d\\d\\d\\d\") # [-.] used to read only pattern contains - and . in that pattern\n",
    "\n",
    "with open('data.txt','r') as f:\n",
    "    contents=f.read()\n",
    "    \n",
    "\n",
    "matches=pattern.finditer(contents)\n",
    "for match in matches:\n",
    "    print(match)\n",
    "print(contents[1:13])"
   ]
  },
  {
   "cell_type": "code",
   "execution_count": null,
   "metadata": {},
   "outputs": [],
   "source": []
  },
  {
   "cell_type": "code",
   "execution_count": null,
   "metadata": {},
   "outputs": [],
   "source": []
  }
 ],
 "metadata": {
  "kernelspec": {
   "display_name": "Python 3",
   "language": "python",
   "name": "python3"
  },
  "language_info": {
   "codemirror_mode": {
    "name": "ipython",
    "version": 3
   },
   "file_extension": ".py",
   "mimetype": "text/x-python",
   "name": "python",
   "nbconvert_exporter": "python",
   "pygments_lexer": "ipython3",
   "version": "3.7.4"
  }
 },
 "nbformat": 4,
 "nbformat_minor": 2
}
